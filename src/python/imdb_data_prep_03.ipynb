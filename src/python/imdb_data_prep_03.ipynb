{
 "cells": [
  {
   "cell_type": "code",
   "execution_count": 11,
   "metadata": {},
   "outputs": [],
   "source": [
    "import pandas as pd\n",
    "import numpy as np\n",
    "import matplotlib.pyplot as plt\n",
    "import seaborn as sns\n",
    "import scipy.stats as st\n",
    "import sys \n",
    "import datetime as dt\n",
    "import time\n",
    "import gc"
   ]
  },
  {
   "cell_type": "code",
   "execution_count": 1,
   "metadata": {},
   "outputs": [
    {
     "name": "stdout",
     "output_type": "stream",
     "text": [
      "IMDB SQLLite Database: ../data/imdb.sqllite\n"
     ]
    }
   ],
   "source": [
    "from helper.parallel_util import ParallelUtil\n",
    "from helper.parsers import Utils\n",
    "from helper.file_mapping import FILE_MAPPINGS\n",
    "from helper.imdb_sqllite_db import IMDBSQLLite\n",
    "import config\n",
    "\n",
    "\n",
    "LESSON_DATA_FOLDER = config.IMDB_DATA_FOLDER\n",
    "imdb_db = IMDBSQLLite();\n",
    "imdbConn, imdbCurs = imdb_db.get()"
   ]
  },
  {
   "cell_type": "code",
   "execution_count": null,
   "metadata": {},
   "outputs": [],
   "source": [
    "print (imdb_db.rowCount('title_episodes'))    \n",
    "print (imdb_db.rowCount('merged_title_ratings'))    \n",
    "print (imdb_db.rowCount('merged_name_principals'))  \n",
    "print (imdb_db.rowCount('title_episodes')['count'])"
   ]
  },
  {
   "cell_type": "code",
   "execution_count": null,
   "metadata": {},
   "outputs": [],
   "source": [
    "pd.read_sql_query(\"select  nconst, ordering, category, job,\\\n",
    "                    primaryName, birthYear, deathYear, primaryProfession, \\\n",
    "                knownForTitles, isAlive, wiki from \\\n",
    "                ( SELECT * FROM merged_names_principals LIMIT 4 )  GROUP BY tconst \", imdbConn)"
   ]
  },
  {
   "cell_type": "code",
   "execution_count": null,
   "metadata": {},
   "outputs": [],
   "source": [
    "pd.read_sql_query(\"select  count(1) from merged_names_principals\", imdbConn).to_json(''.join([LESSON_DATA_FOLDER, 'x.json']))"
   ]
  },
  {
   "cell_type": "code",
   "execution_count": null,
   "metadata": {},
   "outputs": [],
   "source": [
    "print (27172692/100000)"
   ]
  },
  {
   "cell_type": "code",
   "execution_count": null,
   "metadata": {},
   "outputs": [],
   "source": []
  },
  {
   "cell_type": "code",
   "execution_count": null,
   "metadata": {},
   "outputs": [],
   "source": []
  },
  {
   "cell_type": "code",
   "execution_count": 8,
   "metadata": {},
   "outputs": [],
   "source": [
    "title_files =[]\n",
    "LIMIT = 100000\n",
    "\n",
    "for x in range(0, int(imdb_db.rowCount('merged_title_ratings')['count']/LIMIT) + 2):\n",
    "    title_files.append({'index':x, 'limit':LIMIT, 'offset': LIMIT * x, \n",
    "                        'file':''.join([LESSON_DATA_FOLDER, 'titles.' , str(x), '.json'])})\n",
    "\n",
    "#title_files[0]    \n",
    "#title_files"
   ]
  },
  {
   "cell_type": "code",
   "execution_count": 12,
   "metadata": {},
   "outputs": [
    {
     "name": "stdout",
     "output_type": "stream",
     "text": [
      "Working on title : {'limit': 100000, 'offset': 2700000, 'index': 27, 'file': '../data/titles.27.json'}\n",
      "Working on title : {'limit': 100000, 'offset': 2800000, 'index': 28, 'file': '../data/titles.28.json'}\n",
      "Working on title : {'limit': 100000, 'offset': 2900000, 'index': 29, 'file': '../data/titles.29.json'}\n",
      "Working on title : {'limit': 100000, 'offset': 3000000, 'index': 30, 'file': '../data/titles.30.json'}\n",
      "Working on title : {'limit': 100000, 'offset': 3100000, 'index': 31, 'file': '../data/titles.31.json'}\n",
      "Working on title : {'limit': 100000, 'offset': 3200000, 'index': 32, 'file': '../data/titles.32.json'}\n",
      "Working on title : {'limit': 100000, 'offset': 3300000, 'index': 33, 'file': '../data/titles.33.json'}\n",
      "Working on title : {'limit': 100000, 'offset': 3400000, 'index': 34, 'file': '../data/titles.34.json'}\n",
      "Working on title : {'limit': 100000, 'offset': 3500000, 'index': 35, 'file': '../data/titles.35.json'}\n",
      "Working on title : {'limit': 100000, 'offset': 3600000, 'index': 36, 'file': '../data/titles.36.json'}\n",
      "Working on title : {'limit': 100000, 'offset': 3700000, 'index': 37, 'file': '../data/titles.37.json'}\n",
      "Working on title : {'limit': 100000, 'offset': 3800000, 'index': 38, 'file': '../data/titles.38.json'}\n",
      "Working on title : {'limit': 100000, 'offset': 3900000, 'index': 39, 'file': '../data/titles.39.json'}\n",
      "Working on title : {'limit': 100000, 'offset': 4000000, 'index': 40, 'file': '../data/titles.40.json'}\n",
      "Working on title : {'limit': 100000, 'offset': 4100000, 'index': 41, 'file': '../data/titles.41.json'}\n",
      "Working on title : {'limit': 100000, 'offset': 4200000, 'index': 42, 'file': '../data/titles.42.json'}\n",
      "Working on title : {'limit': 100000, 'offset': 4300000, 'index': 43, 'file': '../data/titles.43.json'}\n",
      "Working on title : {'limit': 100000, 'offset': 4400000, 'index': 44, 'file': '../data/titles.44.json'}\n",
      "Working on title : {'limit': 100000, 'offset': 4500000, 'index': 45, 'file': '../data/titles.45.json'}\n"
     ]
    },
    {
     "ename": "KeyError",
     "evalue": "('2016', 'occurred at index isAdult')",
     "output_type": "error",
     "traceback": [
      "\u001b[0;31m-----------------------------------------------------------------\u001b[0m",
      "\u001b[0;31mKeyError\u001b[0m                        Traceback (most recent call last)",
      "\u001b[0;32m<ipython-input-12-3f07bb3a5529>\u001b[0m in \u001b[0;36m<module>\u001b[0;34m()\u001b[0m\n\u001b[1;32m      2\u001b[0m \u001b[0;32mfor\u001b[0m \u001b[0mtitle\u001b[0m \u001b[0;32min\u001b[0m \u001b[0mtitle_files\u001b[0m\u001b[0;34m[\u001b[0m\u001b[0;36m27\u001b[0m\u001b[0;34m:\u001b[0m\u001b[0;34m]\u001b[0m\u001b[0;34m:\u001b[0m\u001b[0;34m\u001b[0m\u001b[0m\n\u001b[1;32m      3\u001b[0m     \u001b[0mprint\u001b[0m \u001b[0;34m(\u001b[0m\u001b[0;34m'Working on title : {}'\u001b[0m\u001b[0;34m.\u001b[0m\u001b[0mformat\u001b[0m\u001b[0;34m(\u001b[0m\u001b[0mtitle\u001b[0m\u001b[0;34m)\u001b[0m\u001b[0;34m)\u001b[0m\u001b[0;34m\u001b[0m\u001b[0m\n\u001b[0;32m----> 4\u001b[0;31m     \u001b[0mprep_data\u001b[0m\u001b[0;34m.\u001b[0m\u001b[0mprep_title\u001b[0m \u001b[0;34m(\u001b[0m\u001b[0mtitle\u001b[0m\u001b[0;34m)\u001b[0m\u001b[0;34m\u001b[0m\u001b[0m\n\u001b[0m\u001b[1;32m      5\u001b[0m     \u001b[0mgc\u001b[0m\u001b[0;34m.\u001b[0m\u001b[0mcollect\u001b[0m\u001b[0;34m(\u001b[0m\u001b[0;34m)\u001b[0m\u001b[0;34m\u001b[0m\u001b[0m\n\u001b[1;32m      6\u001b[0m \u001b[0;34m\u001b[0m\u001b[0m\n",
      "\u001b[0;32m~/imdb/dev/imdb-chatbot/src/python/prep_data.py\u001b[0m in \u001b[0;36mprep_title\u001b[0;34m(title)\u001b[0m\n\u001b[1;32m     40\u001b[0m     \u001b[0mq_titles\u001b[0m \u001b[0;34m=\u001b[0m \u001b[0;34m\"select  * from merged_title_ratings LIMIT {limit} OFFSET {offset}\"\u001b[0m\u001b[0;34m.\u001b[0m\u001b[0mformat\u001b[0m\u001b[0;34m(\u001b[0m\u001b[0mlimit\u001b[0m \u001b[0;34m=\u001b[0m \u001b[0mlimit\u001b[0m\u001b[0;34m,\u001b[0m \u001b[0moffset\u001b[0m \u001b[0;34m=\u001b[0m \u001b[0moffset\u001b[0m\u001b[0;34m)\u001b[0m\u001b[0;34m\u001b[0m\u001b[0m\n\u001b[1;32m     41\u001b[0m     \u001b[0mdf_titles\u001b[0m \u001b[0;34m=\u001b[0m \u001b[0mimdb_db\u001b[0m\u001b[0;34m.\u001b[0m\u001b[0mquery\u001b[0m\u001b[0;34m(\u001b[0m\u001b[0mq_titles\u001b[0m\u001b[0;34m)\u001b[0m\u001b[0;34m\u001b[0m\u001b[0m\n\u001b[0;32m---> 42\u001b[0;31m     \u001b[0mdf_titles\u001b[0m \u001b[0;34m=\u001b[0m \u001b[0mtransform\u001b[0m\u001b[0;34m(\u001b[0m\u001b[0mdf_titles\u001b[0m\u001b[0;34m,\u001b[0m \u001b[0;34m'merged.title.ratings.sql'\u001b[0m\u001b[0;34m)\u001b[0m\u001b[0;34m\u001b[0m\u001b[0m\n\u001b[0m\u001b[1;32m     43\u001b[0m     \u001b[0mdf_titles\u001b[0m\u001b[0;34m[\u001b[0m\u001b[0;34m'imdb'\u001b[0m\u001b[0;34m]\u001b[0m \u001b[0;34m=\u001b[0m \u001b[0mdf_titles\u001b[0m\u001b[0;34m[\u001b[0m\u001b[0;34m'tconst'\u001b[0m\u001b[0;34m]\u001b[0m\u001b[0;34m.\u001b[0m\u001b[0mapply\u001b[0m\u001b[0;34m(\u001b[0m\u001b[0mUtils\u001b[0m\u001b[0;34m.\u001b[0m\u001b[0mwikiLink\u001b[0m\u001b[0;34m,\u001b[0m \u001b[0margs\u001b[0m \u001b[0;34m=\u001b[0m \u001b[0;34m(\u001b[0m\u001b[0;34m'www.imdb.com/title/'\u001b[0m\u001b[0;34m,\u001b[0m \u001b[0;34m)\u001b[0m\u001b[0;34m)\u001b[0m\u001b[0;34m\u001b[0m\u001b[0m\n\u001b[1;32m     44\u001b[0m \u001b[0;34m\u001b[0m\u001b[0m\n",
      "\u001b[0;32m~/imdb/dev/imdb-chatbot/src/python/prep_data.py\u001b[0m in \u001b[0;36mtransform\u001b[0;34m(df, key)\u001b[0m\n\u001b[1;32m     30\u001b[0m     \u001b[0;32mif\u001b[0m\u001b[0;34m(\u001b[0m\u001b[0mconverters\u001b[0m\u001b[0;34m!=\u001b[0m \u001b[0;32mNone\u001b[0m\u001b[0;34m)\u001b[0m\u001b[0;34m:\u001b[0m\u001b[0;34m\u001b[0m\u001b[0m\n\u001b[1;32m     31\u001b[0m         \u001b[0mcols\u001b[0m \u001b[0;34m=\u001b[0m \u001b[0mlist\u001b[0m\u001b[0;34m(\u001b[0m\u001b[0mconverters\u001b[0m\u001b[0;34m.\u001b[0m\u001b[0mkeys\u001b[0m\u001b[0;34m(\u001b[0m\u001b[0;34m)\u001b[0m\u001b[0;34m)\u001b[0m\u001b[0;34m\u001b[0m\u001b[0m\n\u001b[0;32m---> 32\u001b[0;31m         \u001b[0mdf\u001b[0m\u001b[0;34m[\u001b[0m\u001b[0mcols\u001b[0m\u001b[0;34m]\u001b[0m \u001b[0;34m=\u001b[0m \u001b[0mdf\u001b[0m\u001b[0;34m[\u001b[0m\u001b[0mcols\u001b[0m\u001b[0;34m]\u001b[0m\u001b[0;34m.\u001b[0m\u001b[0mapply\u001b[0m\u001b[0;34m(\u001b[0m\u001b[0mUtils\u001b[0m\u001b[0;34m.\u001b[0m\u001b[0mcallFunction\u001b[0m\u001b[0;34m,\u001b[0m \u001b[0;34m**\u001b[0m\u001b[0mconverters\u001b[0m\u001b[0;34m)\u001b[0m\u001b[0;34m\u001b[0m\u001b[0m\n\u001b[0m\u001b[1;32m     33\u001b[0m \u001b[0;34m\u001b[0m\u001b[0m\n\u001b[1;32m     34\u001b[0m     \u001b[0;32mreturn\u001b[0m \u001b[0mdf\u001b[0m\u001b[0;34m\u001b[0m\u001b[0m\n",
      "\u001b[0;32m~/anaconda3/envs/imdb-env/lib/python3.5/site-packages/pandas/core/frame.py\u001b[0m in \u001b[0;36mapply\u001b[0;34m(self, func, axis, broadcast, raw, reduce, args, **kwds)\u001b[0m\n\u001b[1;32m   4875\u001b[0m                         \u001b[0mf\u001b[0m\u001b[0;34m,\u001b[0m \u001b[0maxis\u001b[0m\u001b[0;34m,\u001b[0m\u001b[0;34m\u001b[0m\u001b[0m\n\u001b[1;32m   4876\u001b[0m                         \u001b[0mreduce\u001b[0m\u001b[0;34m=\u001b[0m\u001b[0mreduce\u001b[0m\u001b[0;34m,\u001b[0m\u001b[0;34m\u001b[0m\u001b[0m\n\u001b[0;32m-> 4877\u001b[0;31m                         ignore_failures=ignore_failures)\n\u001b[0m\u001b[1;32m   4878\u001b[0m             \u001b[0;32melse\u001b[0m\u001b[0;34m:\u001b[0m\u001b[0;34m\u001b[0m\u001b[0m\n\u001b[1;32m   4879\u001b[0m                 \u001b[0;32mreturn\u001b[0m \u001b[0mself\u001b[0m\u001b[0;34m.\u001b[0m\u001b[0m_apply_broadcast\u001b[0m\u001b[0;34m(\u001b[0m\u001b[0mf\u001b[0m\u001b[0;34m,\u001b[0m \u001b[0maxis\u001b[0m\u001b[0;34m)\u001b[0m\u001b[0;34m\u001b[0m\u001b[0m\n",
      "\u001b[0;32m~/anaconda3/envs/imdb-env/lib/python3.5/site-packages/pandas/core/frame.py\u001b[0m in \u001b[0;36m_apply_standard\u001b[0;34m(self, func, axis, ignore_failures, reduce)\u001b[0m\n\u001b[1;32m   4971\u001b[0m             \u001b[0;32mtry\u001b[0m\u001b[0;34m:\u001b[0m\u001b[0;34m\u001b[0m\u001b[0m\n\u001b[1;32m   4972\u001b[0m                 \u001b[0;32mfor\u001b[0m \u001b[0mi\u001b[0m\u001b[0;34m,\u001b[0m \u001b[0mv\u001b[0m \u001b[0;32min\u001b[0m \u001b[0menumerate\u001b[0m\u001b[0;34m(\u001b[0m\u001b[0mseries_gen\u001b[0m\u001b[0;34m)\u001b[0m\u001b[0;34m:\u001b[0m\u001b[0;34m\u001b[0m\u001b[0m\n\u001b[0;32m-> 4973\u001b[0;31m                     \u001b[0mresults\u001b[0m\u001b[0;34m[\u001b[0m\u001b[0mi\u001b[0m\u001b[0;34m]\u001b[0m \u001b[0;34m=\u001b[0m \u001b[0mfunc\u001b[0m\u001b[0;34m(\u001b[0m\u001b[0mv\u001b[0m\u001b[0;34m)\u001b[0m\u001b[0;34m\u001b[0m\u001b[0m\n\u001b[0m\u001b[1;32m   4974\u001b[0m                     \u001b[0mkeys\u001b[0m\u001b[0;34m.\u001b[0m\u001b[0mappend\u001b[0m\u001b[0;34m(\u001b[0m\u001b[0mv\u001b[0m\u001b[0;34m.\u001b[0m\u001b[0mname\u001b[0m\u001b[0;34m)\u001b[0m\u001b[0;34m\u001b[0m\u001b[0m\n\u001b[1;32m   4975\u001b[0m             \u001b[0;32mexcept\u001b[0m \u001b[0mException\u001b[0m \u001b[0;32mas\u001b[0m \u001b[0me\u001b[0m\u001b[0;34m:\u001b[0m\u001b[0;34m\u001b[0m\u001b[0m\n",
      "\u001b[0;32m~/anaconda3/envs/imdb-env/lib/python3.5/site-packages/pandas/core/frame.py\u001b[0m in \u001b[0;36mf\u001b[0;34m(x)\u001b[0m\n\u001b[1;32m   4852\u001b[0m         \u001b[0;32mif\u001b[0m \u001b[0mkwds\u001b[0m \u001b[0;32mor\u001b[0m \u001b[0margs\u001b[0m \u001b[0;32mand\u001b[0m \u001b[0;32mnot\u001b[0m \u001b[0misinstance\u001b[0m\u001b[0;34m(\u001b[0m\u001b[0mfunc\u001b[0m\u001b[0;34m,\u001b[0m \u001b[0mnp\u001b[0m\u001b[0;34m.\u001b[0m\u001b[0mufunc\u001b[0m\u001b[0;34m)\u001b[0m\u001b[0;34m:\u001b[0m\u001b[0;34m\u001b[0m\u001b[0m\n\u001b[1;32m   4853\u001b[0m             \u001b[0;32mdef\u001b[0m \u001b[0mf\u001b[0m\u001b[0;34m(\u001b[0m\u001b[0mx\u001b[0m\u001b[0;34m)\u001b[0m\u001b[0;34m:\u001b[0m\u001b[0;34m\u001b[0m\u001b[0m\n\u001b[0;32m-> 4854\u001b[0;31m                 \u001b[0;32mreturn\u001b[0m \u001b[0mfunc\u001b[0m\u001b[0;34m(\u001b[0m\u001b[0mx\u001b[0m\u001b[0;34m,\u001b[0m \u001b[0;34m*\u001b[0m\u001b[0margs\u001b[0m\u001b[0;34m,\u001b[0m \u001b[0;34m**\u001b[0m\u001b[0mkwds\u001b[0m\u001b[0;34m)\u001b[0m\u001b[0;34m\u001b[0m\u001b[0m\n\u001b[0m\u001b[1;32m   4855\u001b[0m         \u001b[0;32melse\u001b[0m\u001b[0;34m:\u001b[0m\u001b[0;34m\u001b[0m\u001b[0m\n\u001b[1;32m   4856\u001b[0m             \u001b[0mf\u001b[0m \u001b[0;34m=\u001b[0m \u001b[0mfunc\u001b[0m\u001b[0;34m\u001b[0m\u001b[0m\n",
      "\u001b[0;32m~/imdb/dev/imdb-chatbot/src/python/helper/parsers.py\u001b[0m in \u001b[0;36mcallFunction\u001b[0;34m(columnData, **funDict)\u001b[0m\n\u001b[1;32m     17\u001b[0m                     \u001b[0mcolumnData\u001b[0m \u001b[0;34m=\u001b[0m \u001b[0mcolumnData\u001b[0m\u001b[0;34m.\u001b[0m\u001b[0mapply\u001b[0m\u001b[0;34m(\u001b[0m\u001b[0mfunSpec\u001b[0m\u001b[0;34m[\u001b[0m\u001b[0;34m'function'\u001b[0m\u001b[0;34m]\u001b[0m \u001b[0;34m)\u001b[0m\u001b[0;34m\u001b[0m\u001b[0m\n\u001b[1;32m     18\u001b[0m                 \u001b[0;32melse\u001b[0m\u001b[0;34m:\u001b[0m\u001b[0;34m\u001b[0m\u001b[0m\n\u001b[0;32m---> 19\u001b[0;31m                     \u001b[0mcolumnData\u001b[0m \u001b[0;34m=\u001b[0m \u001b[0mcolumnData\u001b[0m\u001b[0;34m.\u001b[0m\u001b[0mapply\u001b[0m\u001b[0;34m(\u001b[0m\u001b[0mfunSpec\u001b[0m\u001b[0;34m[\u001b[0m\u001b[0;34m'function'\u001b[0m\u001b[0;34m]\u001b[0m\u001b[0;34m,\u001b[0m \u001b[0margs\u001b[0m\u001b[0;34m=\u001b[0m\u001b[0mparams\u001b[0m \u001b[0;34m)\u001b[0m\u001b[0;34m\u001b[0m\u001b[0m\n\u001b[0m\u001b[1;32m     20\u001b[0m \u001b[0;34m\u001b[0m\u001b[0m\n\u001b[1;32m     21\u001b[0m         \u001b[0;32mreturn\u001b[0m \u001b[0mcolumnData\u001b[0m\u001b[0;34m\u001b[0m\u001b[0m\n",
      "\u001b[0;32m~/anaconda3/envs/imdb-env/lib/python3.5/site-packages/pandas/core/series.py\u001b[0m in \u001b[0;36mapply\u001b[0;34m(self, func, convert_dtype, args, **kwds)\u001b[0m\n\u001b[1;32m   2549\u001b[0m             \u001b[0;32melse\u001b[0m\u001b[0;34m:\u001b[0m\u001b[0;34m\u001b[0m\u001b[0m\n\u001b[1;32m   2550\u001b[0m                 \u001b[0mvalues\u001b[0m \u001b[0;34m=\u001b[0m \u001b[0mself\u001b[0m\u001b[0;34m.\u001b[0m\u001b[0masobject\u001b[0m\u001b[0;34m\u001b[0m\u001b[0m\n\u001b[0;32m-> 2551\u001b[0;31m                 \u001b[0mmapped\u001b[0m \u001b[0;34m=\u001b[0m \u001b[0mlib\u001b[0m\u001b[0;34m.\u001b[0m\u001b[0mmap_infer\u001b[0m\u001b[0;34m(\u001b[0m\u001b[0mvalues\u001b[0m\u001b[0;34m,\u001b[0m \u001b[0mf\u001b[0m\u001b[0;34m,\u001b[0m \u001b[0mconvert\u001b[0m\u001b[0;34m=\u001b[0m\u001b[0mconvert_dtype\u001b[0m\u001b[0;34m)\u001b[0m\u001b[0;34m\u001b[0m\u001b[0m\n\u001b[0m\u001b[1;32m   2552\u001b[0m \u001b[0;34m\u001b[0m\u001b[0m\n\u001b[1;32m   2553\u001b[0m         \u001b[0;32mif\u001b[0m \u001b[0mlen\u001b[0m\u001b[0;34m(\u001b[0m\u001b[0mmapped\u001b[0m\u001b[0;34m)\u001b[0m \u001b[0;32mand\u001b[0m \u001b[0misinstance\u001b[0m\u001b[0;34m(\u001b[0m\u001b[0mmapped\u001b[0m\u001b[0;34m[\u001b[0m\u001b[0;36m0\u001b[0m\u001b[0;34m]\u001b[0m\u001b[0;34m,\u001b[0m \u001b[0mSeries\u001b[0m\u001b[0;34m)\u001b[0m\u001b[0;34m:\u001b[0m\u001b[0;34m\u001b[0m\u001b[0m\n",
      "\u001b[0;32mpandas/_libs/src/inference.pyx\u001b[0m in \u001b[0;36mpandas._libs.lib.map_infer\u001b[0;34m()\u001b[0m\n",
      "\u001b[0;32m~/anaconda3/envs/imdb-env/lib/python3.5/site-packages/pandas/core/series.py\u001b[0m in \u001b[0;36m<lambda>\u001b[0;34m(x)\u001b[0m\n\u001b[1;32m   2536\u001b[0m         \u001b[0;31m# handle ufuncs and lambdas\u001b[0m\u001b[0;34m\u001b[0m\u001b[0;34m\u001b[0m\u001b[0m\n\u001b[1;32m   2537\u001b[0m         \u001b[0;32mif\u001b[0m \u001b[0mkwds\u001b[0m \u001b[0;32mor\u001b[0m \u001b[0margs\u001b[0m \u001b[0;32mand\u001b[0m \u001b[0;32mnot\u001b[0m \u001b[0misinstance\u001b[0m\u001b[0;34m(\u001b[0m\u001b[0mfunc\u001b[0m\u001b[0;34m,\u001b[0m \u001b[0mnp\u001b[0m\u001b[0;34m.\u001b[0m\u001b[0mufunc\u001b[0m\u001b[0;34m)\u001b[0m\u001b[0;34m:\u001b[0m\u001b[0;34m\u001b[0m\u001b[0m\n\u001b[0;32m-> 2538\u001b[0;31m             \u001b[0mf\u001b[0m \u001b[0;34m=\u001b[0m \u001b[0;32mlambda\u001b[0m \u001b[0mx\u001b[0m\u001b[0;34m:\u001b[0m \u001b[0mfunc\u001b[0m\u001b[0;34m(\u001b[0m\u001b[0mx\u001b[0m\u001b[0;34m,\u001b[0m \u001b[0;34m*\u001b[0m\u001b[0margs\u001b[0m\u001b[0;34m,\u001b[0m \u001b[0;34m**\u001b[0m\u001b[0mkwds\u001b[0m\u001b[0;34m)\u001b[0m\u001b[0;34m\u001b[0m\u001b[0m\n\u001b[0m\u001b[1;32m   2539\u001b[0m         \u001b[0;32melse\u001b[0m\u001b[0;34m:\u001b[0m\u001b[0;34m\u001b[0m\u001b[0m\n\u001b[1;32m   2540\u001b[0m             \u001b[0mf\u001b[0m \u001b[0;34m=\u001b[0m \u001b[0mfunc\u001b[0m\u001b[0;34m\u001b[0m\u001b[0m\n",
      "\u001b[0;32m~/imdb/dev/imdb-chatbot/src/python/helper/parsers.py\u001b[0m in \u001b[0;36mparse_bool\u001b[0;34m(boolean, mapping)\u001b[0m\n\u001b[1;32m     61\u001b[0m         \u001b[0;32melse\u001b[0m\u001b[0;34m:\u001b[0m\u001b[0;34m\u001b[0m\u001b[0m\n\u001b[1;32m     62\u001b[0m             \u001b[0;32mif\u001b[0m\u001b[0;34m(\u001b[0m\u001b[0mmapping\u001b[0m \u001b[0;34m!=\u001b[0m \u001b[0;32mNone\u001b[0m\u001b[0;34m)\u001b[0m\u001b[0;34m:\u001b[0m\u001b[0;34m\u001b[0m\u001b[0m\n\u001b[0;32m---> 63\u001b[0;31m                 \u001b[0;32mreturn\u001b[0m \u001b[0mmapping\u001b[0m\u001b[0;34m[\u001b[0m\u001b[0mstr\u001b[0m\u001b[0;34m(\u001b[0m\u001b[0mboolean\u001b[0m\u001b[0;34m)\u001b[0m\u001b[0;34m]\u001b[0m\u001b[0;34m\u001b[0m\u001b[0m\n\u001b[0m\u001b[1;32m     64\u001b[0m             \u001b[0;32melse\u001b[0m\u001b[0;34m:\u001b[0m\u001b[0;34m\u001b[0m\u001b[0m\n\u001b[1;32m     65\u001b[0m                 \u001b[0;32mreturn\u001b[0m \u001b[0mboolean\u001b[0m \u001b[0;34m==\u001b[0m\u001b[0;34m'True'\u001b[0m\u001b[0;34m\u001b[0m\u001b[0m\n",
      "\u001b[0;31mKeyError\u001b[0m: ('2016', 'occurred at index isAdult')"
     ]
    }
   ],
   "source": [
    "import prep_data;\n",
    "for title in title_files[45:]:   \n",
    "    print ('Working on title : {}'.format(title))\n",
    "    prep_data.prep_title (title)\n",
    "    gc.collect()\n",
    "    "
   ]
  },
  {
   "cell_type": "code",
   "execution_count": null,
   "metadata": {},
   "outputs": [],
   "source": [
    "def transform(df, key):\n",
    "    mapping = FILE_MAPPINGS.getMapping(key)\n",
    "    df.fillna(method='pad', inplace=True)\n",
    "    if(mapping['to_replace']!= None):\n",
    "        df.replace(to_replace=mapping['to_replace'],method='pad', inplace=True)\n",
    "    \n",
    "    converters = mapping['converters']\n",
    "    if(converters!= None):\n",
    "        cols = list(converters.keys())\n",
    "        df[cols] = df[cols].apply(Utils.callFunction, **converters)\n",
    "        \n",
    "    return df\n",
    "\n",
    "def prep_title(title):\n",
    "    limit = title['limit']\n",
    "    offset = title['offset']\n",
    "    file = title['file']\n",
    "    q_titles = \"select  * from merged_title_ratings where titleType like 'tv%' LIMIT {limit} OFFSET {offset}\".format(limit = limit, offset = offset)    \n",
    "    df_titles = imdb_db.query(q_titles)\n",
    "    df_titles = transform(df_titles, 'merged.title.ratings.sql')\n",
    "    df_titles['imdb'] = df_titles['tconst'].apply(Utils.wikiLink, args = ('www.imdb.com/title/', ))\n",
    "    \n",
    "    #names['wiki'] = names['primaryName'].apply(Utils.wikiLink)\n",
    "    \n",
    "    q_names = 'SELECT * FROM merged_name_principals WHERE tconst IN ({tconsts})'.format(\n",
    "        tconsts =  ','.join(\"'\"+ tconst +\"'\" for tconst in df_titles['tconst']))\n",
    "                    \n",
    "    df_names  = imdb_db.query(q_names)\n",
    "    df_names['imdb'] = df_names['nconst'].apply(Utils.wikiLink, args = ('www.imdb.com/name/', ))\n",
    "    df_names = transform(df_names, 'merged.names.principals.sql')\n",
    "    df_names['isAlive'] = df_names['deathYear'] == 0    \n",
    "    df_names['wiki'] = df_names['primaryName'].apply(Utils.wikiLink)\n",
    "    df_names[['lastName', 'firstName']] = df_names['primaryName'].apply(lambda x: pd.Series(str(x).lower().split(' ', 1)))\n",
    "    \n",
    "    dfg_names = df_names.groupby('tconst')\n",
    "    \n",
    "    q_episodes = 'SELECT * FROM title_episodes WHERE parentTconst IN ({tconsts})'.format(\n",
    "        tconsts =  ','.join(\"'\"+ tconst +\"'\" for tconst in df_titles['tconst']))\n",
    "    df_episodes  = imdb_db.query(q_episodes)\n",
    "    df_episodes = transform(df_episodes, 'title.episodes.sql')\n",
    "    dfg_episodes = df_episodes.groupby(['parentTconst'])\n",
    "    \n",
    "    \n",
    "    def funNames(row, df):       \n",
    "        try:\n",
    "            dic = df.get_group(row['tconst']).to_dict('records')\n",
    "            #dic = dfg_episodes.get_group(row['tconst']).to_dict('records')\n",
    "            return dic\n",
    "        except:        \n",
    "            return []\n",
    "    \n",
    "    def funSeasons(data):\n",
    "        #print(data['tconst'])\n",
    "        dic = {\n",
    "            'seasonNumber':str(int(data['seasonNumber'].unique()[0])), \n",
    "            'episodes': data['tconst'],                        \n",
    "             }\n",
    "        #print(dic)\n",
    "        return dic\n",
    "    def funEpisodes(row, df):       \n",
    "        try:            \n",
    "            if(row['parentTconst'] == None):\n",
    "                dic = df.get_group(row['tconst']).dropna(axis=0, how='any').groupby('seasonNumber').apply(funSeasons)                \n",
    "                return dic\n",
    "            else:\n",
    "                return []\n",
    "        except KeyError as kerr:\n",
    "            return []          \n",
    "        except Exception as ex:\n",
    "            raise ex;\n",
    "            return []  \n",
    "\n",
    "    df_titles['crew'] = df_titles.apply(funNames, axis = 1, args= (dfg_names, ))\n",
    "    df_titles['series'] = df_titles.apply(funEpisodes, axis = 1, args= (dfg_episodes, ))\n",
    "    \n",
    "    df_titles.to_json(file, orient='records')\n",
    "    del [df_titles,df_names, dfg_names, df_episodes, dfg_episodes]\n",
    "    gc.collect()\n",
    "\n",
    "#prep_title(title_files[0])\n",
    "for title in title_files[:1]:    \n",
    "    #prep_title (title)\n",
    "    #print (title)"
   ]
  },
  {
   "cell_type": "code",
   "execution_count": null,
   "metadata": {},
   "outputs": [],
   "source": [
    "df_names[df_names['tconst'] == 'tt0000134']"
   ]
  },
  {
   "cell_type": "code",
   "execution_count": null,
   "metadata": {},
   "outputs": [],
   "source": [
    "def fun(row):\n",
    "    #print (row['tconst'])    \n",
    "    try:\n",
    "        dic = dfg_names.get_group(row['tconst']).to_dict('records')\n",
    "        return dic\n",
    "    except:        \n",
    "        return [] \n",
    "    \n",
    "df_titles['crew'] = df_titles.apply(fun, 1)"
   ]
  },
  {
   "cell_type": "code",
   "execution_count": null,
   "metadata": {},
   "outputs": [],
   "source": [
    "df_titles.to_json(''.join([LESSON_DATA_FOLDER, 'titles.json']), orient='records')"
   ]
  },
  {
   "cell_type": "code",
   "execution_count": null,
   "metadata": {},
   "outputs": [],
   "source": [
    "L = ['L','O','L']\n",
    "', '.join(\"'\"+ i +\"'\" for i in L)"
   ]
  },
  {
   "cell_type": "code",
   "execution_count": null,
   "metadata": {},
   "outputs": [],
   "source": [
    "tconsts  = ['tt0774826','tt0041030', 'tt0041031']\n",
    "query = 'select * from merged_title_ratings where tconst in ({tconsts})'.format(\n",
    "    tconsts = ', '.join(\"'\"+ i +\"'\" for i in tconsts))\n",
    "pd.read_sql(query, con = imdbConn)"
   ]
  },
  {
   "cell_type": "code",
   "execution_count": null,
   "metadata": {},
   "outputs": [],
   "source": [
    "df = imdb_db.query(\"select  * from title_episodes where parentTconst in('tt0041030', 'tt0041031')\");\n",
    "#df.groupby('parentTconst').get_group('tt0041030').describe()\n",
    "def fun(data):\n",
    "    \n",
    "    return {\n",
    "            'seasonNumber':''.join (data['seasonNumber'].unique()), \n",
    "            'tconsts':data['tconst'],            \n",
    "            \n",
    "             }\n",
    "df.groupby(['parentTconst', 'seasonNumber']).apply(fun)"
   ]
  },
  {
   "cell_type": "code",
   "execution_count": null,
   "metadata": {},
   "outputs": [],
   "source": [
    "df.groupby('parentTconst').get_group('tt0041031').dropna(axis=0, how='any').to_dict('list')"
   ]
  },
  {
   "cell_type": "code",
   "execution_count": null,
   "metadata": {},
   "outputs": [],
   "source": [
    "tconsts  = ['tt0774826','tt0041030', 'tt0041031']\n",
    "tconsts_string = ', '.join(\"'\"+ i +\"'\" for i in tconsts)\n",
    "#query = 'select * from merged_title_ratings where tconst in ({tconsts})'.format( tconsts = tconsts_string)\n",
    "query = 'select {columns} from merged_title_ratings group by titleType'.format( columns = 'titleType, count(1)')\n",
    "result = imdb_db.query(query);\n",
    "result"
   ]
  },
  {
   "cell_type": "code",
   "execution_count": null,
   "metadata": {},
   "outputs": [],
   "source": [
    "list1 = [1, 2, 3]\n",
    "''.join(str(e) for e in list1)"
   ]
  },
  {
   "cell_type": "code",
   "execution_count": null,
   "metadata": {},
   "outputs": [],
   "source": []
  }
 ],
 "metadata": {
  "kernelspec": {
   "display_name": "Python 3",
   "language": "python",
   "name": "python3"
  },
  "language_info": {
   "codemirror_mode": {
    "name": "ipython",
    "version": 3
   },
   "file_extension": ".py",
   "mimetype": "text/x-python",
   "name": "python",
   "nbconvert_exporter": "python",
   "pygments_lexer": "ipython3",
   "version": "3.5.4"
  }
 },
 "nbformat": 4,
 "nbformat_minor": 2
}
