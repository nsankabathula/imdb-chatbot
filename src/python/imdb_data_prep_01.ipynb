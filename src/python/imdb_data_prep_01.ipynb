{
 "cells": [
  {
   "cell_type": "code",
   "execution_count": 1,
   "metadata": {},
   "outputs": [],
   "source": [
    "import pandas as pd\n",
    "import numpy as np\n",
    "import matplotlib.pyplot as plt\n",
    "import seaborn as sns\n",
    "import scipy.stats as st\n",
    "import sys \n",
    "import datetime as dt\n",
    "import time\n",
    "import gc\n",
    "gc.collect()\n",
    "\n",
    "LESSON_DATA_FOLDER = './data/'\n",
    "#http://www.imdb.com/interfaces/"
   ]
  },
  {
   "cell_type": "code",
   "execution_count": 2,
   "metadata": {},
   "outputs": [
    {
     "name": "stdout",
     "output_type": "stream",
     "text": [
      "IMDB SQLLite Database: ./data/imdb.sqllite\n"
     ]
    }
   ],
   "source": [
    "from helper.parallel_util import ParallelUtil\n",
    "from helper.parsers import Utils\n",
    "from helper.file_mapping import FILE_MAPPINGS\n",
    "from helper.imdb_sqllite_db import IMDBSQLLite\n",
    "\n",
    "imdb_db = IMDBSQLLite();\n",
    "imdbConn, imdbCurs = imdb_db.get()"
   ]
  },
  {
   "cell_type": "code",
   "execution_count": 3,
   "metadata": {},
   "outputs": [],
   "source": [
    "#clusters = ParallelUtil('./data/parallel.config.tsv')      \n",
    "#clusters.info()"
   ]
  },
  {
   "cell_type": "code",
   "execution_count": 4,
   "metadata": {},
   "outputs": [],
   "source": [
    "import read_data as imdbImport"
   ]
  },
  {
   "cell_type": "code",
   "execution_count": 5,
   "metadata": {},
   "outputs": [],
   "source": [
    "#importLib.mergeAll()\n",
    "\n",
    "#imdbImport.merge_title_ratings(None, 10);\n",
    "#imdbImport.merge_names_principals(None, 10);\n",
    "#importLib.merge_names_principals(''.join([LESSON_DATA_FOLDER, 'merged.names.principals.tsv']), None)"
   ]
  },
  {
   "cell_type": "code",
   "execution_count": 6,
   "metadata": {},
   "outputs": [
    {
     "data": {
      "text/plain": [
       "\"\\n    #@dview.parallel(block=True)\\n    def f(group):\\n        #print (len(group))\\n\\n        #group = pandas.DataFrame(group.to_dict('dict'))\\n\\n        group = group.set_index('tconst')    \\n        data = {'directors': group.to_json(orient='records')}\\n        #data = {'directors': group.to_dict('dict')}\\n        #print (group.index.values , directors)\\n        return pandas.DataFrame(data=data, index = group.index.values)  \\n\\n\\n\\n#title_grouped_directors# = \\n#title_grouped_directors.reset_index().drop(['level_1'], axis= 1)\\n#pd.DataFrame(title_grouped_directors).to_json(orient='records')\\n#title_grouped_directors.reset_index(level='tconst')\\n\""
      ]
     },
     "execution_count": 6,
     "metadata": {},
     "output_type": "execute_result"
    }
   ],
   "source": [
    "'''\n",
    "    #@dview.parallel(block=True)\n",
    "    def f(group):\n",
    "        #print (len(group))\n",
    "\n",
    "        #group = pandas.DataFrame(group.to_dict('dict'))\n",
    "\n",
    "        group = group.set_index('tconst')    \n",
    "        data = {'directors': group.to_json(orient='records')}\n",
    "        #data = {'directors': group.to_dict('dict')}\n",
    "        #print (group.index.values , directors)\n",
    "        return pandas.DataFrame(data=data, index = group.index.values)  \n",
    "\n",
    "\n",
    "\n",
    "#title_grouped_directors# = \n",
    "#title_grouped_directors.reset_index().drop(['level_1'], axis= 1)\n",
    "#pd.DataFrame(title_grouped_directors).to_json(orient='records')\n",
    "#title_grouped_directors.reset_index(level='tconst')\n",
    "'''"
   ]
  },
  {
   "cell_type": "code",
   "execution_count": 7,
   "metadata": {},
   "outputs": [
    {
     "data": {
      "text/plain": [
       "'\\nprint (time.strftime(\"%Y-%m-%d %H:%M:%S\"))\\nclusters = PARALLEL_CLUSTERS()\\ndview = clusters[:]\\ndview.scatter(\"scview\", title_grouped_directors.apply(f))\\n#dview[\\'scview\\']\\ntitle_grouped_directors = pd.concat([i for i in dview[\"scview\"]])\\nprint (time.strftime(\"%Y-%m-%d %H:%M:%S\"))\\n#title_grouped_directors = title_grouped_directors.reset_index().drop([\\'level_1\\'], axis= 1)\\n'"
      ]
     },
     "execution_count": 7,
     "metadata": {},
     "output_type": "execute_result"
    }
   ],
   "source": [
    "'''\n",
    "print (time.strftime(\"%Y-%m-%d %H:%M:%S\"))\n",
    "clusters = PARALLEL_CLUSTERS()\n",
    "dview = clusters[:]\n",
    "dview.scatter(\"scview\", title_grouped_directors.apply(f))\n",
    "#dview['scview']\n",
    "title_grouped_directors = pd.concat([i for i in dview[\"scview\"]])\n",
    "print (time.strftime(\"%Y-%m-%d %H:%M:%S\"))\n",
    "#title_grouped_directors = title_grouped_directors.reset_index().drop(['level_1'], axis= 1)\n",
    "'''"
   ]
  },
  {
   "cell_type": "code",
   "execution_count": 8,
   "metadata": {},
   "outputs": [
    {
     "name": "stdout",
     "output_type": "stream",
     "text": [
      "Start: 2018-03-12 12:16:49\n",
      "['tconst', 'averageRating', 'numVotes']\n",
      "End: 2018-03-12 12:16:49\n",
      "Start: 2018-03-12 12:16:49\n",
      "['tconst', 'titleType', 'primaryTitle', 'originalTitle', 'isAdult', 'startYear', 'endYear', 'runtimeMinutes', 'genres']\n",
      "End: 2018-03-12 12:16:49\n",
      "wikipedia Done: 2018-03-12 12:16:49\n",
      "Merge done: 2018-03-12 12:16:49\n",
      "To TABLE merged_titles_ratings done: 2018-03-12 12:16:50\n",
      "{'tconst': dtype('O'), 'titleType': dtype('O'), 'primaryTitle': dtype('O'), 'originalTitle': dtype('O'), 'isAdult': dtype('bool'), 'startYear': dtype('int64'), 'endYear': dtype('O'), 'runtimeMinutes': dtype('float64'), 'genres': dtype('O'), 'wikiTitle': dtype('O'), 'averageRating': dtype('float64'), 'numVotes': dtype('float64')}\n",
      "Start: 2018-03-12 12:16:50\n",
      "['nconst', 'primaryName', 'birthYear', 'deathYear', 'primaryProfession', 'knownForTitles']\n",
      "End: 2018-03-12 12:16:50\n",
      "Alive Done: 2018-03-12 12:16:50\n",
      "wikipedia Done: 2018-03-12 12:16:50\n",
      "Start: 2018-03-12 12:16:50\n",
      "['tconst', 'ordering', 'nconst', 'category', 'job', 'characters']\n",
      "End: 2018-03-12 12:16:50\n",
      "Merge done: 2018-03-12 12:16:50\n",
      "To TABLE merged_names_principals done: 2018-03-12 12:16:50\n",
      "{'tconst': dtype('O'), 'ordering': dtype('int64'), 'nconst': dtype('O'), 'category': dtype('O'), 'job': dtype('O'), 'characters': dtype('O'), 'primaryName': dtype('O'), 'birthYear': dtype('float64'), 'deathYear': dtype('float64'), 'primaryProfession': dtype('O'), 'knownForTitles': dtype('O'), 'isAlive': dtype('O'), 'wiki': dtype('O')}\n"
     ]
    }
   ],
   "source": [
    "#imdbImport.mergeAll(1000);\n",
    "imdbImport.mergeAllToTable(imdbConn, 1000);"
   ]
  },
  {
   "cell_type": "code",
   "execution_count": null,
   "metadata": {},
   "outputs": [],
   "source": []
  }
 ],
 "metadata": {
  "kernelspec": {
   "display_name": "Python 3",
   "language": "python",
   "name": "python3"
  },
  "language_info": {
   "codemirror_mode": {
    "name": "ipython",
    "version": 3
   },
   "file_extension": ".py",
   "mimetype": "text/x-python",
   "name": "python",
   "nbconvert_exporter": "python",
   "pygments_lexer": "ipython3",
   "version": "3.6.3"
  }
 },
 "nbformat": 4,
 "nbformat_minor": 2
}
