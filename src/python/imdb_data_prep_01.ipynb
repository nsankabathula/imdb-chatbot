{
 "cells": [
  {
   "cell_type": "code",
   "execution_count": 1,
   "metadata": {},
   "outputs": [],
   "source": [
    "import pandas as pd\n",
    "import numpy as np\n",
    "import matplotlib.pyplot as plt\n",
    "import seaborn as sns\n",
    "import scipy.stats as st\n",
    "import sys \n",
    "import datetime as dt\n",
    "import time\n",
    "import gc\n",
    "gc.collect()\n",
    "\n",
    "LESSON_DATA_FOLDER = './data/'\n",
    "#http://www.imdb.com/interfaces/"
   ]
  },
  {
   "cell_type": "code",
   "execution_count": 33,
   "metadata": {},
   "outputs": [],
   "source": [
    "from helper.parallel_util import ParallelUtil\n",
    "from helper.parsers import Utils\n",
    "from helper.file_mapping import FILE_MAPPINGS"
   ]
  },
  {
   "cell_type": "code",
   "execution_count": 3,
   "metadata": {},
   "outputs": [],
   "source": [
    "#clusters = ParallelUtil('./data/parallel.config.tsv')      \n",
    "#clusters.info()"
   ]
  },
  {
   "cell_type": "code",
   "execution_count": null,
   "metadata": {},
   "outputs": [],
   "source": [
    "import read_data as importLib"
   ]
  },
  {
   "cell_type": "code",
   "execution_count": null,
   "metadata": {},
   "outputs": [],
   "source": [
    "importLib.mergeAll()"
   ]
  },
  {
   "cell_type": "code",
   "execution_count": null,
   "metadata": {},
   "outputs": [],
   "source": [
    "'''\n",
    "    #@dview.parallel(block=True)\n",
    "    def f(group):\n",
    "        #print (len(group))\n",
    "\n",
    "        #group = pandas.DataFrame(group.to_dict('dict'))\n",
    "\n",
    "        group = group.set_index('tconst')    \n",
    "        data = {'directors': group.to_json(orient='records')}\n",
    "        #data = {'directors': group.to_dict('dict')}\n",
    "        #print (group.index.values , directors)\n",
    "        return pandas.DataFrame(data=data, index = group.index.values)  \n",
    "\n",
    "\n",
    "\n",
    "#title_grouped_directors# = \n",
    "#title_grouped_directors.reset_index().drop(['level_1'], axis= 1)\n",
    "#pd.DataFrame(title_grouped_directors).to_json(orient='records')\n",
    "#title_grouped_directors.reset_index(level='tconst')\n",
    "'''"
   ]
  },
  {
   "cell_type": "code",
   "execution_count": null,
   "metadata": {},
   "outputs": [],
   "source": [
    "'''\n",
    "print (time.strftime(\"%Y-%m-%d %H:%M:%S\"))\n",
    "clusters = PARALLEL_CLUSTERS()\n",
    "dview = clusters[:]\n",
    "dview.scatter(\"scview\", title_grouped_directors.apply(f))\n",
    "#dview['scview']\n",
    "title_grouped_directors = pd.concat([i for i in dview[\"scview\"]])\n",
    "print (time.strftime(\"%Y-%m-%d %H:%M:%S\"))\n",
    "#title_grouped_directors = title_grouped_directors.reset_index().drop(['level_1'], axis= 1)\n",
    "'''"
   ]
  },
  {
   "cell_type": "code",
   "execution_count": null,
   "metadata": {},
   "outputs": [],
   "source": []
  }
 ],
 "metadata": {
  "kernelspec": {
   "display_name": "Python 3",
   "language": "python",
   "name": "python3"
  },
  "language_info": {
   "codemirror_mode": {
    "name": "ipython",
    "version": 3
   },
   "file_extension": ".py",
   "mimetype": "text/x-python",
   "name": "python",
   "nbconvert_exporter": "python",
   "pygments_lexer": "ipython3",
   "version": "3.5.4"
  }
 },
 "nbformat": 4,
 "nbformat_minor": 2
}
