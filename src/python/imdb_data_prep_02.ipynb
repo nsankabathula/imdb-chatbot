{
 "cells": [
  {
   "cell_type": "code",
   "execution_count": 1,
   "metadata": {},
   "outputs": [
    {
     "data": {
      "text/plain": [
       "0"
      ]
     },
     "execution_count": 1,
     "metadata": {},
     "output_type": "execute_result"
    }
   ],
   "source": [
    "import pandas as pd\n",
    "import numpy as np\n",
    "import matplotlib.pyplot as plt\n",
    "import seaborn as sns\n",
    "import scipy.stats as st\n",
    "import sys \n",
    "import datetime as dt\n",
    "import time\n",
    "import gc\n",
    "gc.collect()"
   ]
  },
  {
   "cell_type": "code",
   "execution_count": 2,
   "metadata": {},
   "outputs": [
    {
     "name": "stdout",
     "output_type": "stream",
     "text": [
      "IMDB SQLLite Database: ../data/imdb.sqllite\n"
     ]
    }
   ],
   "source": [
    "from helper.parallel_util import ParallelUtil\n",
    "from helper.parsers import Utils\n",
    "from helper.file_mapping import FILE_MAPPINGS\n",
    "from helper.imdb_sqllite_db import IMDBSQLLite\n",
    "import config\n",
    "\n",
    "\n",
    "LESSON_DATA_FOLDER = config.IMDB_DATA_FOLDER\n",
    "imdb_db = IMDBSQLLite();\n",
    "imdbConn, imdbCurs = imdb_db.get()"
   ]
  },
  {
   "cell_type": "code",
   "execution_count": null,
   "metadata": {},
   "outputs": [],
   "source": [
    "#putil = ParallelUtil('./data/parallel.config.tsv')"
   ]
  },
  {
   "cell_type": "code",
   "execution_count": 3,
   "metadata": {},
   "outputs": [
    {
     "data": {
      "text/plain": [
       "25.0"
      ]
     },
     "execution_count": 3,
     "metadata": {},
     "output_type": "execute_result"
    }
   ],
   "source": [
    "title_files =[]\n",
    "LIMIT = 100000\n",
    "\n",
    "for x in range(0, int(imdb_db.rowCount('merged_title_ratings')['count']/LIMIT) + 2):\n",
    "    title_files.append({'index':x, 'limit':LIMIT, 'offset': LIMIT * x, \n",
    "                        'file':''.join([LESSON_DATA_FOLDER, 'titles.' , str(x), '.json'])})\n",
    "\n",
    "#title_files[0]    \n",
    "len(title_files)/2"
   ]
  },
  {
   "cell_type": "code",
   "execution_count": 4,
   "metadata": {},
   "outputs": [
    {
     "name": "stdout",
     "output_type": "stream",
     "text": [
      "Working on title : {'offset': 2200000, 'limit': 100000, 'index': 22, 'file': '../data/titles.22.json'}\n",
      "PARSE_BOOL(error):'2004'. Returning default (False)\n",
      "Working on title : {'offset': 2300000, 'limit': 100000, 'index': 23, 'file': '../data/titles.23.json'}\n",
      "PARSE_BOOL(error):'2011'. Returning default (False)\n"
     ]
    }
   ],
   "source": [
    "import prep_data;\n",
    "for title in title_files[22:24]:    \n",
    "    print ('Working on title : {}'.format(title))\n",
    "    prep_data.prep_title (title)\n",
    "    gc.collect()\n",
    "    "
   ]
  },
  {
   "cell_type": "code",
   "execution_count": null,
   "metadata": {},
   "outputs": [],
   "source": []
  }
 ],
 "metadata": {
  "kernelspec": {
   "display_name": "Python 3",
   "language": "python",
   "name": "python3"
  },
  "language_info": {
   "codemirror_mode": {
    "name": "ipython",
    "version": 3
   },
   "file_extension": ".py",
   "mimetype": "text/x-python",
   "name": "python",
   "nbconvert_exporter": "python",
   "pygments_lexer": "ipython3",
   "version": "3.5.4"
  }
 },
 "nbformat": 4,
 "nbformat_minor": 2
}
