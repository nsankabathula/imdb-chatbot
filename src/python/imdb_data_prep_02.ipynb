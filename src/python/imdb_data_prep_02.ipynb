{
 "cells": [
  {
   "cell_type": "code",
   "execution_count": 2,
   "metadata": {},
   "outputs": [
    {
     "data": {
      "text/plain": [
       "0"
      ]
     },
     "execution_count": 2,
     "metadata": {},
     "output_type": "execute_result"
    }
   ],
   "source": [
    "import pandas as pd\n",
    "import numpy as np\n",
    "import matplotlib.pyplot as plt\n",
    "import seaborn as sns\n",
    "import scipy.stats as st\n",
    "import sys \n",
    "import datetime as dt\n",
    "import time\n",
    "import gc\n",
    "gc.collect()"
   ]
  },
  {
   "cell_type": "code",
   "execution_count": 3,
   "metadata": {},
   "outputs": [
    {
     "name": "stdout",
     "output_type": "stream",
     "text": [
      "IMDB SQLLite Database: ../data/imdb.sqllite\n"
     ]
    }
   ],
   "source": [
    "from helper.parallel_util import ParallelUtil\n",
    "from helper.parsers import Utils\n",
    "from helper.file_mapping import FILE_MAPPINGS\n",
    "from helper.imdb_sqllite_db import IMDBSQLLite\n",
    "import config\n",
    "\n",
    "\n",
    "LESSON_DATA_FOLDER = config.IMDB_DATA_FOLDER\n",
    "imdb_db = IMDBSQLLite();\n",
    "imdbConn, imdbCurs = imdb_db.get()"
   ]
  },
  {
   "cell_type": "code",
   "execution_count": null,
   "metadata": {},
   "outputs": [],
   "source": [
    "#putil = ParallelUtil('./data/parallel.config.tsv')"
   ]
  },
  {
   "cell_type": "code",
   "execution_count": 6,
   "metadata": {},
   "outputs": [
    {
     "data": {
      "text/plain": [
       "25.0"
      ]
     },
     "execution_count": 6,
     "metadata": {},
     "output_type": "execute_result"
    }
   ],
   "source": [
    "title_files =[]\n",
    "LIMIT = 100000\n",
    "\n",
    "for x in range(0, int(imdb_db.rowCount('merged_title_ratings')['count']/LIMIT) + 2):\n",
    "    title_files.append({'index':x, 'limit':LIMIT, 'offset': LIMIT * x, \n",
    "                        'file':''.join([LESSON_DATA_FOLDER, 'titles.' , str(x), '.json'])})\n",
    "\n",
    "#title_files[0]    \n",
    "len(title_files)/2"
   ]
  },
  {
   "cell_type": "code",
   "execution_count": null,
   "metadata": {},
   "outputs": [
    {
     "name": "stdout",
     "output_type": "stream",
     "text": [
      "Working on title : {'limit': 100000, 'file': '../data/titles.0.json', 'index': 0, 'offset': 0}\n",
      "Working on title : {'limit': 100000, 'file': '../data/titles.1.json', 'index': 1, 'offset': 100000}\n",
      "Working on title : {'limit': 100000, 'file': '../data/titles.2.json', 'index': 2, 'offset': 200000}\n",
      "Working on title : {'limit': 100000, 'file': '../data/titles.3.json', 'index': 3, 'offset': 300000}\n",
      "Working on title : {'limit': 100000, 'file': '../data/titles.4.json', 'index': 4, 'offset': 400000}\n",
      "Working on title : {'limit': 100000, 'file': '../data/titles.5.json', 'index': 5, 'offset': 500000}\n",
      "Working on title : {'limit': 100000, 'file': '../data/titles.6.json', 'index': 6, 'offset': 600000}\n",
      "Working on title : {'limit': 100000, 'file': '../data/titles.7.json', 'index': 7, 'offset': 700000}\n",
      "Working on title : {'limit': 100000, 'file': '../data/titles.8.json', 'index': 8, 'offset': 800000}\n",
      "Working on title : {'limit': 100000, 'file': '../data/titles.9.json', 'index': 9, 'offset': 900000}\n",
      "Working on title : {'limit': 100000, 'file': '../data/titles.10.json', 'index': 10, 'offset': 1000000}\n",
      "Working on title : {'limit': 100000, 'file': '../data/titles.11.json', 'index': 11, 'offset': 1100000}\n",
      "Working on title : {'limit': 100000, 'file': '../data/titles.12.json', 'index': 12, 'offset': 1200000}\n",
      "Working on title : {'limit': 100000, 'file': '../data/titles.13.json', 'index': 13, 'offset': 1300000}\n",
      "Working on title : {'limit': 100000, 'file': '../data/titles.14.json', 'index': 14, 'offset': 1400000}\n"
     ]
    }
   ],
   "source": [
    "import prep_data;\n",
    "for title in title_files[:25]:    \n",
    "    print ('Working on title : {}'.format(title))\n",
    "    prep_data.prep_title (title)\n",
    "    gc.collect()\n",
    "    "
   ]
  },
  {
   "cell_type": "code",
   "execution_count": null,
   "metadata": {},
   "outputs": [],
   "source": []
  }
 ],
 "metadata": {
  "kernelspec": {
   "display_name": "Python 3",
   "language": "python",
   "name": "python3"
  },
  "language_info": {
   "codemirror_mode": {
    "name": "ipython",
    "version": 3
   },
   "file_extension": ".py",
   "mimetype": "text/x-python",
   "name": "python",
   "nbconvert_exporter": "python",
   "pygments_lexer": "ipython3",
   "version": "3.5.4"
  }
 },
 "nbformat": 4,
 "nbformat_minor": 2
}
