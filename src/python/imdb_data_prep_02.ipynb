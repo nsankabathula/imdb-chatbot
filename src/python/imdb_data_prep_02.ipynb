{
 "cells": [
  {
   "cell_type": "code",
   "execution_count": null,
   "metadata": {},
   "outputs": [],
   "source": [
    "import pandas as pd\n",
    "import numpy as np\n",
    "import matplotlib.pyplot as plt\n",
    "import seaborn as sns\n",
    "import scipy.stats as st\n",
    "import sys \n",
    "import datetime as dt\n",
    "import time\n",
    "import gc\n",
    "gc.collect()"
   ]
  },
  {
   "cell_type": "code",
   "execution_count": null,
   "metadata": {},
   "outputs": [],
   "source": [
    "#import singleton\n",
    "from helper.parallel_util import ParallelUtil\n",
    "from helper.parsers import Utils\n",
    "from helper.file_mapping import FILE_MAPPINGS\n",
    "import read_data as imdbImport\n",
    "\n",
    "LESSON_DATA_FOLDER = imdbImport.LESSON_DATA_FOLDER"
   ]
  },
  {
   "cell_type": "code",
   "execution_count": null,
   "metadata": {},
   "outputs": [],
   "source": [
    "#putil = ParallelUtil('./data/parallel.config.tsv')"
   ]
  },
  {
   "cell_type": "code",
   "execution_count": null,
   "metadata": {},
   "outputs": [],
   "source": [
    "crew = imdbImport.readFile('merged.names.principals.tsv', nrows = None)\n",
    "crew.info()"
   ]
  },
  {
   "cell_type": "code",
   "execution_count": null,
   "metadata": {},
   "outputs": [],
   "source": [
    "crew.tail()"
   ]
  },
  {
   "cell_type": "code",
   "execution_count": null,
   "metadata": {},
   "outputs": [],
   "source": [
    "crew_grouped = imdbImport.readFile('merged.names.principals.tsv', nrows = None).groupby(['tconst'])\n",
    "#crew.groupby(['tconst'])\n",
    "\n",
    "\n",
    "\n",
    "'''[['tconst','nconst','ordering','category',\n",
    "                                        'job','characters','primaryName','birthYear','deathYear',\n",
    "                                        'wiki','isAlive'\n",
    "                                       ]]\n",
    "'''                                       "
   ]
  },
  {
   "cell_type": "code",
   "execution_count": null,
   "metadata": {},
   "outputs": [],
   "source": [
    "crew_grouped.get_group('tt0000001')"
   ]
  },
  {
   "cell_type": "code",
   "execution_count": null,
   "metadata": {
    "scrolled": true
   },
   "outputs": [],
   "source": [
    "titles = imdbImport.readFile('merged.title.ratings.tsv', nrows = None)\n",
    "titles.info()"
   ]
  },
  {
   "cell_type": "code",
   "execution_count": null,
   "metadata": {},
   "outputs": [],
   "source": []
  },
  {
   "cell_type": "code",
   "execution_count": null,
   "metadata": {},
   "outputs": [],
   "source": [
    "#@dview.parallel(block=True)\n",
    "def f(group):    \n",
    "    group = group.set_index('tconst')        \n",
    "    return pd.DataFrame(data={'crew': group.to_json(orient='records')}, index = pd.Series(group.index.values).unique()  )  \n",
    "    \n",
    "crew_grouped = crew.groupby(['tconst']).apply(f)\n",
    "print ('Crew groupby apply done: {}'.format(time.strftime(\"%Y-%m-%d %H:%M:%S\"))  )\n",
    "\n",
    "crew_grouped = crew_grouped.reset_index().drop(['level_1'], axis= 1)\n",
    "print ('Crew axis drop done: {}'.format(time.strftime(\"%Y-%m-%d %H:%M:%S\"))  )\n",
    "\n",
    "merged_title_crew = pd.merge(titles, crew_grouped, on = ['tconst'], how = 'left')\n",
    "print ('Merge done: {}'.format(time.strftime(\"%Y-%m-%d %H:%M:%S\"))  )"
   ]
  },
  {
   "cell_type": "code",
   "execution_count": null,
   "metadata": {},
   "outputs": [],
   "source": [
    "merged_title_crew.info()\n",
    "#crew_grouped_1 = crew_grouped_1.reset_index()"
   ]
  },
  {
   "cell_type": "code",
   "execution_count": null,
   "metadata": {},
   "outputs": [],
   "source": [
    "merged_title_crew"
   ]
  },
  {
   "cell_type": "code",
   "execution_count": null,
   "metadata": {},
   "outputs": [],
   "source": [
    "#titles.head(2).merge(crew_grouped_1, left_on =['tconst'], how='left', left_index= True)\n",
    "#merged_title_crew = pd.merge(titles.head(2), crew_grouped_1, on = ['tconst'])"
   ]
  },
  {
   "cell_type": "code",
   "execution_count": null,
   "metadata": {},
   "outputs": [],
   "source": [
    "merged_title_crew.to_json(''.join([LESSON_DATA_FOLDER, 'merged.title.crew.json']), orient='records')"
   ]
  },
  {
   "cell_type": "code",
   "execution_count": 1,
   "metadata": {},
   "outputs": [],
   "source": [
    "from helper.imdb_sqllite_db import IMDBSQLLite"
   ]
  },
  {
   "cell_type": "code",
   "execution_count": 2,
   "metadata": {},
   "outputs": [
    {
     "name": "stdout",
     "output_type": "stream",
     "text": [
      "IMDB SQLLite Database: ./data/imdb.sqllite\n"
     ]
    }
   ],
   "source": [
    "sqlConn = IMDBSQLLite()"
   ]
  },
  {
   "cell_type": "code",
   "execution_count": null,
   "metadata": {},
   "outputs": [],
   "source": []
  },
  {
   "cell_type": "code",
   "execution_count": null,
   "metadata": {},
   "outputs": [],
   "source": [
    "sqlConn.cursor"
   ]
  },
  {
   "cell_type": "code",
   "execution_count": null,
   "metadata": {},
   "outputs": [],
   "source": []
  }
 ],
 "metadata": {
  "kernelspec": {
   "display_name": "Python 3",
   "language": "python",
   "name": "python3"
  },
  "language_info": {
   "codemirror_mode": {
    "name": "ipython",
    "version": 3
   },
   "file_extension": ".py",
   "mimetype": "text/x-python",
   "name": "python",
   "nbconvert_exporter": "python",
   "pygments_lexer": "ipython3",
   "version": "3.5.4"
  }
 },
 "nbformat": 4,
 "nbformat_minor": 2
}
