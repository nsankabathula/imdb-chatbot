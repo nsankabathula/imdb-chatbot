{
 "cells": [
  {
   "cell_type": "code",
   "execution_count": 1,
   "metadata": {},
   "outputs": [],
   "source": [
    "from elasticsearch import Elasticsearch"
   ]
  },
  {
   "cell_type": "code",
   "execution_count": 2,
   "metadata": {},
   "outputs": [],
   "source": [
    "esconfig = {\n",
    "    \"host\": [\n",
    "        {\n",
    "            \"host\": \"localhost\",                  \n",
    "            \"port\":\"9229\"\n",
    "        }\n",
    "    ],\n",
    "    \"log\": \"error\"\n",
    "}"
   ]
  },
  {
   "cell_type": "code",
   "execution_count": 3,
   "metadata": {},
   "outputs": [],
   "source": [
    "esconnection = Elasticsearch( hosts= esconfig['host'])"
   ]
  },
  {
   "cell_type": "code",
   "execution_count": 4,
   "metadata": {},
   "outputs": [
    {
     "data": {
      "text/plain": [
       "{'cluster_name': 'cluster-es',\n",
       " 'cluster_uuid': 'AxFHMCPFQmGNBxrl8rPpXA',\n",
       " 'name': 'node-es',\n",
       " 'tagline': 'You Know, for Search',\n",
       " 'version': {'build_date': '2018-02-16T19:01:30.685723Z',\n",
       "  'build_hash': '10b1edd',\n",
       "  'build_snapshot': False,\n",
       "  'lucene_version': '7.2.1',\n",
       "  'minimum_index_compatibility_version': '5.0.0',\n",
       "  'minimum_wire_compatibility_version': '5.6.0',\n",
       "  'number': '6.2.2'}}"
      ]
     },
     "execution_count": 4,
     "metadata": {},
     "output_type": "execute_result"
    }
   ],
   "source": [
    "esconnection.info()"
   ]
  },
  {
   "cell_type": "code",
   "execution_count": null,
   "metadata": {},
   "outputs": [],
   "source": []
  }
 ],
 "metadata": {
  "kernelspec": {
   "display_name": "Python 3",
   "language": "python",
   "name": "python3"
  },
  "language_info": {
   "codemirror_mode": {
    "name": "ipython",
    "version": 3
   },
   "file_extension": ".py",
   "mimetype": "text/x-python",
   "name": "python",
   "nbconvert_exporter": "python",
   "pygments_lexer": "ipython3",
   "version": "3.5.4"
  }
 },
 "nbformat": 4,
 "nbformat_minor": 2
}
