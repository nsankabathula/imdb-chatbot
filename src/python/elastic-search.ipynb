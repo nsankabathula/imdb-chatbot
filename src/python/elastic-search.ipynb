{
 "cells": [
  {
   "cell_type": "code",
   "execution_count": 1,
   "metadata": {},
   "outputs": [],
   "source": [
    "from elasticsearch import Elasticsearch\n",
    "from elasticsearch import helpers as esHelper\n",
    "import json\n",
    "import config\n",
    "import os\n",
    "import re\n",
    "import shutil\n",
    "esconfig = config.ES_CONFIG\n",
    "DATA_FOLDER = '../data/es_data/'"
   ]
  },
  {
   "cell_type": "code",
   "execution_count": null,
   "metadata": {},
   "outputs": [],
   "source": [
    "\n"
   ]
  },
  {
   "cell_type": "code",
   "execution_count": 19,
   "metadata": {},
   "outputs": [
    {
     "data": {
      "text/plain": [
       "['../data/es_data/titles.47.json',\n",
       " '../data/es_data/titles.45.json',\n",
       " '../data/es_data/titles.22.json',\n",
       " '../data/es_data/titles.23.json']"
      ]
     },
     "execution_count": 19,
     "metadata": {},
     "output_type": "execute_result"
    }
   ],
   "source": [
    "import tarfile\n",
    "tar = tarfile.open(\"../data/titles_04.archive.tar.gz\")\n",
    "tarFiles = tar.getmembers()\n",
    "tar.extractall(path=DATA_FOLDER)\n",
    "list(map(lambda file: ''.join([DATA_FOLDER, file]), os.listdir(DATA_FOLDER)))"
   ]
  },
  {
   "cell_type": "code",
   "execution_count": 5,
   "metadata": {},
   "outputs": [
    {
     "data": {
      "text/plain": [
       "{'acknowledged': True}"
      ]
     },
     "execution_count": 5,
     "metadata": {},
     "output_type": "execute_result"
    }
   ],
   "source": [
    "es = Elasticsearch( hosts= esconfig['host'])\n",
    "es.info()\n",
    "es.nodes.info()\n",
    "#es.indices.delete(index='imdb', ignore=[400, 404])\n",
    "#es.indices.create(index='imdb', ignore=400)\n",
    "#es.indices.put_mapping(index='imdb', doc_type='titles', body=json.load(open('../data/imdb.title.mapping.json')))"
   ]
  },
  {
   "cell_type": "code",
   "execution_count": null,
   "metadata": {},
   "outputs": [],
   "source": [
    "#es.indices.get_mapping(index='imdb')"
   ]
  },
  {
   "cell_type": "code",
   "execution_count": 10,
   "metadata": {},
   "outputs": [],
   "source": [
    "from helper.es_helper import ESHelper\n",
    "esHelper = ESHelper(esconfig)"
   ]
  },
  {
   "cell_type": "code",
   "execution_count": 11,
   "metadata": {},
   "outputs": [
    {
     "data": {
      "text/plain": [
       "{'cluster_name': 'cluster-es',\n",
       " 'cluster_uuid': 'AxFHMCPFQmGNBxrl8rPpXA',\n",
       " 'name': 'node-es',\n",
       " 'tagline': 'You Know, for Search',\n",
       " 'version': {'build_date': '2018-02-16T19:01:30.685723Z',\n",
       "  'build_hash': '10b1edd',\n",
       "  'build_snapshot': False,\n",
       "  'lucene_version': '7.2.1',\n",
       "  'minimum_index_compatibility_version': '5.0.0',\n",
       "  'minimum_wire_compatibility_version': '5.6.0',\n",
       "  'number': '6.2.2'}}"
      ]
     },
     "execution_count": 11,
     "metadata": {},
     "output_type": "execute_result"
    }
   ],
   "source": [
    "esHelper.info()"
   ]
  },
  {
   "cell_type": "code",
   "execution_count": 20,
   "metadata": {},
   "outputs": [
    {
     "name": "stdout",
     "output_type": "stream",
     "text": [
      "Working on file: ../data/es_data/titles.47.json\n",
      "Failed to record event: {'error': {'reason': 'failed to parse [runtimeMinutes]', 'caused_by': {'reason': 'For input string: \"Animation,Family\"', 'type': 'number_format_exception'}, 'type': 'mapper_parsing_exception'}, 'status': 400, '_index': 'imdb', '_type': 'titles', '_id': 'tt7841930'}\n",
      "Success count: 99999, Failure count: 1\n",
      "Working on file: ../data/es_data/titles.45.json\n",
      "Failed to record event: {'error': {'reason': 'failed to parse [runtimeMinutes]', 'caused_by': {'reason': 'For input string: \"Action,Adventure,Animation\"', 'type': 'number_format_exception'}, 'type': 'mapper_parsing_exception'}, 'status': 400, '_index': 'imdb', '_type': 'titles', '_id': 'tt7406458'}\n",
      "Success count: 99999, Failure count: 1\n",
      "Working on file: ../data/es_data/titles.22.json\n",
      "Success count: 100000, Failure count: 0\n",
      "Working on file: ../data/es_data/titles.23.json\n",
      "Failed to record event: {'error': {'reason': 'failed to parse [runtimeMinutes]', 'caused_by': {'reason': 'For input string: \"Comedy\"', 'type': 'number_format_exception'}, 'type': 'mapper_parsing_exception'}, 'status': 400, '_index': 'imdb', '_type': 'titles', '_id': 'tt2409954'}\n",
      "Success count: 99999, Failure count: 1\n"
     ]
    }
   ],
   "source": [
    "titles = list(map(lambda file: ''.join([DATA_FOLDER, file]), os.listdir(DATA_FOLDER)))\n",
    "\n",
    "def prep_bulk_data(data):\n",
    "            for item in data:                \n",
    "                yield {\n",
    "                       '_index': 'imdb',\n",
    "                       '_type': 'titles',\n",
    "                       '_id': item['tconst'],\n",
    "                       '_source': item\n",
    "                }\n",
    "for title in titles:\n",
    "    try:        \n",
    "        print('Working on file: {}'.format(title))\n",
    "        esHelper.bulk_stream(prep_bulk_data(json.load(open(title))))    \n",
    "        os.remove(title)\n",
    "    except Exception as ex :\n",
    "        print ('Ingnoring error {}'.format(ex));\n",
    "               "
   ]
  },
  {
   "cell_type": "code",
   "execution_count": null,
   "metadata": {},
   "outputs": [],
   "source": [
    "import json\n",
    "def prep_bulk_data(data):\n",
    "            for item in data:                \n",
    "                yield {\n",
    "                       '_index': 'imdb',\n",
    "                       '_type': 'titles',\n",
    "                       '_id': item['tconst'],\n",
    "                       '_source': item\n",
    "                }\n",
    "\n",
    "#esHelper.stream_bulk(prep_bulk_data(json.load(open('./data/titles.0.json'))))\n",
    "x = prep_bulk_data(json.load(open('../data/es_data/titles.23.json')))"
   ]
  },
  {
   "cell_type": "code",
   "execution_count": null,
   "metadata": {},
   "outputs": [],
   "source": []
  },
  {
   "cell_type": "code",
   "execution_count": null,
   "metadata": {},
   "outputs": [],
   "source": []
  }
 ],
 "metadata": {
  "kernelspec": {
   "display_name": "Python 3",
   "language": "python",
   "name": "python3"
  },
  "language_info": {
   "codemirror_mode": {
    "name": "ipython",
    "version": 3
   },
   "file_extension": ".py",
   "mimetype": "text/x-python",
   "name": "python",
   "nbconvert_exporter": "python",
   "pygments_lexer": "ipython3",
   "version": "3.5.4"
  }
 },
 "nbformat": 4,
 "nbformat_minor": 2
}
